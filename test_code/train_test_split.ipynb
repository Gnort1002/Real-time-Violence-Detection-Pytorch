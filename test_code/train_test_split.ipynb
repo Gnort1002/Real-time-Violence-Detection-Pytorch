{
 "cells": [
  {
   "cell_type": "code",
   "execution_count": 9,
   "metadata": {},
   "outputs": [],
   "source": [
    "import torch\n",
    "import os\n",
    "import os.path as osp\n",
    "import pandas as pd\n",
    "import numpy as np\n",
    "import cv2\n",
    "import tqdm"
   ]
  },
  {
   "cell_type": "code",
   "execution_count": 10,
   "metadata": {},
   "outputs": [],
   "source": [
    "src_dir = '/media/gnort/HDD/Study/Pytorch_Video_Classification/Peliculas'\n",
    "out_dir = '/media/gnort/HDD/Study/Pytorch_Video_Classification/Peliculas_train_test'"
   ]
  },
  {
   "cell_type": "code",
   "execution_count": null,
   "metadata": {},
   "outputs": [],
   "source": [
    "def split(src_dir=default_src_dir, output_dir=default_src_dir, size=default_test_size):\n",
    "    # 设置默认参数\n",
    "    # Set default parameters\n",
    "    src_dir = default_src_dir if src_dir is None else src_dir\n",
    "    output_dir = default_output_dir if output_dir is None else output_dir\n",
    "    size = default_test_size if size is None else size\n",
    "\n",
    "    # 生成测试集和训练集目录\n",
    "    # Generate test and train directories\n",
    "    for folder in ['train', 'test']:\n",
    "        folder_path = os.path.join(output_dir, folder)\n",
    "        if not os.path.exists(folder_path):\n",
    "            os.mkdir(folder_path)\n",
    "            print('Folder {} is created'.format(folder_path))\n",
    "    train_set = []\n",
    "    test_set = []\n",
    "    classes = os.listdir(src_dir)\n",
    "    num_classes = len(classes)\n",
    "    for class_index, classname in enumerate(classes):\n",
    "        # 读取所有视频路径\n",
    "        # Read all video paths\n",
    "        videos = os.listdir(os.path.join(src_dir, classname))\n",
    "        # 打乱视频名称\n",
    "        # Shuffle video names\n",
    "        np.random.shuffle(videos)\n",
    "        # 确定测试集划分点\n",
    "        # Determine the split point of the test set\n",
    "        split_size = int(len(videos) * size)\n",
    "\n",
    "        # 生成训练集和测试集的文件夹\n",
    "        # Generate train and test folders\n",
    "        for i in range(2):\n",
    "            part = ['train', 'test'][i]\n",
    "            class_dir = os.path.join(output_dir, part, classname)\n",
    "            if not os.path.exists(class_dir):\n",
    "                os.mkdir(class_dir)\n",
    "        # 遍历每个视频，将每个视频的图像帧提取出来\n",
    "        # Traverse each video and extract the image frames of each video\n",
    "        for i in tqdm(range(len(videos)), desc='[%d/%d]%s' % (class_index + 1, num_classes, classname)):\n",
    "            video_path = os.path.join(src_dir, classname, videos[i])\n",
    "            video_fd = cv2.VideoCapture(video_path)\n",
    "\n",
    "            if not video_fd.isOpened():\n",
    "                print('Skpped: {}'.format(video_path))\n",
    "                continue\n",
    "\n",
    "            video_type = 'test' if i <= split_size else 'train'\n",
    "\n",
    "            frame_index = 0\n",
    "            success, frame = video_fd.read()\n",
    "            video_name = videos[i].rsplit('.')[0]\n",
    "            while success:\n",
    "                img_path = os.path.join(output_dir, video_type, classname, '%s_%d.jpg' % (video_name, frame_index))\n",
    "                cv2.imwrite(img_path, frame)\n",
    "                info = [classname, video_name, img_path]\n",
    "                # 将视频帧信息保存起来\n",
    "                # Save video frame information\n",
    "                if video_type == 'test':\n",
    "                    test_set.append(info)\n",
    "                else:\n",
    "                    train_set.append(info)\n",
    "                frame_index += 1\n",
    "                success, frame = video_fd.read()\n",
    "\n",
    "            video_fd.release()\n",
    "\n",
    "        # 将训练集和测试集数据保存到文件中，方便写dataloader\n",
    "        # Save the training set and test set data to a file for easy writing of dataloader\n",
    "        datas = [train_set, test_set]\n",
    "        names = ['train', 'test']\n",
    "        for i in range(2):\n",
    "            with open(output_dir + '/' + names[i] + '.csv', 'w') as f:\n",
    "                f.write('\\n'.join([','.join(line) for line in datas[i]]))"
   ]
  },
  {
   "cell_type": "code",
   "execution_count": 8,
   "metadata": {},
   "outputs": [
    {
     "name": "stdout",
     "output_type": "stream",
     "text": [
      "['35.mpg', '98.mpg', '33.mpg', '53.mpg', '100.mpg', '9.mpg', '42 (1).mpg', '40.mpg', '79.mpg', '43 (1).mpg', '17.mpg', '45.mpg', '27.mpg', '51.mpg', '4 (1).mpg', '77.mpg', '2.mpg', '73.mpg', '63.mpg', '84.mpg', '46.mpg', '90.mpg', '41 (1).mpg', '3.mpg', '12 (1).mpg', '59.mpg', '37.mpg', '25.mpg', '89.mpg', '52.mpg', '85.mpg', '23.mpg', '55.mpg', '56.mpg', '72.mpg', '50.mpg', '76.mpg', '16.mpg', '10.mpg', '39.mpg', '13.mpg', '75.mpg', '70.mpg', '97.mpg', '15.mpg', '7.mpg', '62.mpg', '8.mpg', '47.mpg', '83.mpg', '95.mpg', '30.mpg', '5.mpg', '64.mpg', '94.mpg', '11.mpg', '99.mpg', '87.mpg', '93.mpg', '36.mpg', '26 (1).mpg', '66.mpg', '29.mpg', '32.mpg', '38.mpg', '31.mpg', '54.mpg', '1.mpg', '21.mpg', '78.mpg', '22.mpg', '44.mpg', '58.mpg', '91.mpg', '28.mpg', '88.mpg', '24.mpg', '74.mpg', '57.mpg', '60.mpg', '6.mpg', '82.mpg', '19.mpg', '69.mpg', '81.mpg', '67 (1).mpg', '14.mpg', '96.mpg', '80.mpg', '92.mpg', '49.mpg', '33 (1).mpg', '48.mpg', '65.mpg', '20 (1).mpg', '86.mpg', '61.mpg', '68.mpg', '18.mpg', '71avi.mpg', '34.mpg']\n",
      "['newfi32.avi', 'newfi30.avi', 'newfi68.avi', 'newfi96.avi', 'newfi80.avi', 'newfi85.avi', 'newfi55.avi', 'newfi25.avi', 'newfi95.avi', 'newfi66.avi', 'newfi97.avi', 'newfi51.avi', 'newfi72.avi', 'newfi10.avi', 'newfi53.avi', 'newfi43.avi', 'newfi35.avi', 'newfi50.avi', 'newfi11.avi', 'newfi33.avi', 'newfi65.avi', 'newfi64.avi', 'newfi91.avi', 'newfi86.avi', 'newfi94.avi', 'newfi79.avi', 'newfi12.avi', 'newfi7.avi', 'newfi48.avi', 'newfi52.avi', 'newfi26.avi', 'newfi92.avi', 'newfi2.avi', 'newfi24.avi', 'newfi88.avi', 'newfi29.avi', 'newfi1.avi', 'newfi90.avi', 'newfi42.avi', 'newfi59.avi', 'newfi83.avi', 'newfi89.avi', 'newfi15.avi', 'newfi58.avi', 'newfi19.avi', 'newfi82.avi', 'newfi45.avi', 'newfi9.avi', 'newfi38.avi', 'newfi21.avi', 'newfi77.avi', 'newfi4.avi', 'newfi18.avi', 'newfi57.avi', 'newfi67.avi', 'newfi61.avi', 'newfi47.avi', 'newfi20.avi', 'newfi93.avi', 'newfi73.avi', 'newfi5.avi', 'newfi84.avi', 'newfi70.avi', 'newfi100.avi', 'newfi98.avi', 'newfi14.avi', 'newfi63.avi', 'newfi27.avi', 'newfi49.avi', 'newfi17.avi', 'newfi69.avi', 'newfi13.avi', 'newfi16.avi', 'newfi23.avi', 'newfi46.avi', 'newfi36.avi', 'newfi28.avi', 'newfi56.avi', 'newfi75.avi', 'newfi37.avi', 'newfi99.avi', 'newfi22.avi', 'newfi87.avi', 'newfi62.avi', 'newfi6.avi', 'newfi54.avi', 'newfi44.avi', 'newfi31.avi', 'newfi81.avi', 'newfi34.avi', 'newfi41.avi', 'newfi71.avi', 'newfi74avi.avi', 'newfi40.avi', 'newfi3.avi', 'newfi39.avi', 'newfi60.avi', 'newfi76.avi', 'newfi78.avi', 'newfi8.avi']\n"
     ]
    }
   ],
   "source": [
    "classes = os.listdir(src_dir)\n",
    "for class_index, classname in enumerate(classes):\n",
    "    videos = os.listdir(os.path.join(src_dir, classname))\n",
    "    print(videos)"
   ]
  }
 ],
 "metadata": {
  "kernelspec": {
   "display_name": "pytorch",
   "language": "python",
   "name": "python3"
  },
  "language_info": {
   "codemirror_mode": {
    "name": "ipython",
    "version": 3
   },
   "file_extension": ".py",
   "mimetype": "text/x-python",
   "name": "python",
   "nbconvert_exporter": "python",
   "pygments_lexer": "ipython3",
   "version": "3.8.16"
  },
  "orig_nbformat": 4
 },
 "nbformat": 4,
 "nbformat_minor": 2
}
