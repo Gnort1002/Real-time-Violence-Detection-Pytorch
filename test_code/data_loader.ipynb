{
 "cells": [
  {
   "cell_type": "code",
   "execution_count": 19,
   "metadata": {},
   "outputs": [],
   "source": [
    "import torch\n",
    "from torch.utils import data\n",
    "from torchvision import transforms\n",
    "from tqdm import tqdm\n",
    "from PIL import Image\n",
    "import sys\n",
    "sys.path.append('..')\n",
    "\n",
    "\n",
    "import config\n",
    "from dataloader import Dataset\n",
    "import pandas as pd\n",
    "import numpy as np\n",
    "from torch.utils.data import DataLoader"
   ]
  },
  {
   "cell_type": "code",
   "execution_count": 20,
   "metadata": {},
   "outputs": [],
   "source": [
    "    use_cuda = torch.cuda.is_available()\n",
    "    device = torch.device('cuda' if use_cuda else 'cpu')"
   ]
  },
  {
   "cell_type": "code",
   "execution_count": 21,
   "metadata": {},
   "outputs": [],
   "source": [
    "def load_data_list(file_path):\n",
    "    return pd.read_csv(file_path).to_numpy()"
   ]
  },
  {
   "cell_type": "code",
   "execution_count": 22,
   "metadata": {},
   "outputs": [
    {
     "name": "stderr",
     "output_type": "stream",
     "text": [
      "Building dataset:   0%|          | 2/7756 [00:00<11:13, 11.51it/s]"
     ]
    },
    {
     "name": "stderr",
     "output_type": "stream",
     "text": [
      "Building dataset:  63%|██████▎   | 4892/7756 [01:17<11:02,  4.33it/s] "
     ]
    }
   ],
   "source": [
    "train_list = load_data_list(\"/media/gnort/HDD/Study/Pytorch_Video_Classification/Peliculas_train_test/train.csv\")\n",
    "test_list = load_data_list(\"/media/gnort/HDD/Study/Pytorch_Video_Classification/Peliculas_train_test/test.csv\")\n",
    "video_train_dataset = Dataset(data_list=train_list)\n",
    "video_test_dataset = Dataset(data_list=test_list)"
   ]
  },
  {
   "cell_type": "code",
   "execution_count": null,
   "metadata": {},
   "outputs": [
    {
     "ename": "AttributeError",
     "evalue": "'tuple' object has no attribute 'shape'",
     "output_type": "error",
     "traceback": [
      "\u001b[0;31m---------------------------------------------------------------------------\u001b[0m",
      "\u001b[0;31mAttributeError\u001b[0m                            Traceback (most recent call last)",
      "Cell \u001b[0;32mIn[18], line 1\u001b[0m\n\u001b[0;32m----> 1\u001b[0m video_train_dataset\u001b[39m.\u001b[39;49m\u001b[39m__getitem__\u001b[39;49m(\u001b[39m0\u001b[39;49m)\u001b[39m.\u001b[39;49mshape\n",
      "\u001b[0;31mAttributeError\u001b[0m: 'tuple' object has no attribute 'shape'"
     ]
    }
   ],
   "source": [
    "video_train_dataset.__getitem__"
   ]
  },
  {
   "cell_type": "code",
   "execution_count": null,
   "metadata": {},
   "outputs": [
    {
     "name": "stdout",
     "output_type": "stream",
     "text": [
      "[['noFights' '60'\n",
      "  '/media/gnort/HDD/Study/Pytorch_Video_Classification/Peliculas_train_test/train/noFights/60_1.jpg']\n",
      " ['noFights' '60'\n",
      "  '/media/gnort/HDD/Study/Pytorch_Video_Classification/Peliculas_train_test/train/noFights/60_2.jpg']\n",
      " ['noFights' '60'\n",
      "  '/media/gnort/HDD/Study/Pytorch_Video_Classification/Peliculas_train_test/train/noFights/60_3.jpg']\n",
      " ...\n",
      " ['fights' 'newfi41'\n",
      "  '/media/gnort/HDD/Study/Pytorch_Video_Classification/Peliculas_train_test/train/fights/newfi41_39.jpg']\n",
      " ['fights' 'newfi41'\n",
      "  '/media/gnort/HDD/Study/Pytorch_Video_Classification/Peliculas_train_test/train/fights/newfi41_40.jpg']\n",
      " ['fights' 'newfi41'\n",
      "  '/media/gnort/HDD/Study/Pytorch_Video_Classification/Peliculas_train_test/train/fights/newfi41_41.jpg']]\n"
     ]
    }
   ],
   "source": [
    "print(train_list)"
   ]
  },
  {
   "cell_type": "code",
   "execution_count": null,
   "metadata": {},
   "outputs": [],
   "source": [
    "train_loader = DataLoader(dataset=video_train_dataset, **config.dataset_params)\n",
    "test_loader = DataLoader(dataset=video_test_dataset, **config.dataset_params)"
   ]
  },
  {
   "cell_type": "code",
   "execution_count": null,
   "metadata": {},
   "outputs": [],
   "source": []
  },
  {
   "cell_type": "code",
   "execution_count": null,
   "metadata": {},
   "outputs": [
    {
     "name": "stdout",
     "output_type": "stream",
     "text": [
      "torch.Size([8, 30, 3, 224, 224])\n"
     ]
    }
   ],
   "source": [
    "for i, (X, y) in enumerate(train_loader):\n",
    "    X = X.to(device)\n",
    "    y = y.to(device)\n",
    "    print(X.shape)\n",
    "    break"
   ]
  }
 ],
 "metadata": {
  "kernelspec": {
   "display_name": "pytorch",
   "language": "python",
   "name": "python3"
  },
  "language_info": {
   "codemirror_mode": {
    "name": "ipython",
    "version": 3
   },
   "file_extension": ".py",
   "mimetype": "text/x-python",
   "name": "python",
   "nbconvert_exporter": "python",
   "pygments_lexer": "ipython3",
   "version": "3.8.16"
  },
  "orig_nbformat": 4
 },
 "nbformat": 4,
 "nbformat_minor": 2
}
